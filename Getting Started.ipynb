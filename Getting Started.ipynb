{
 "cells": [
  {
   "cell_type": "markdown",
   "metadata": {},
   "source": [
    "## Conda ref"
   ]
  },
  {
   "cell_type": "markdown",
   "metadata": {},
   "source": [
    "```\n",
    "conda -h/ --help                                     to get help\n",
    "conda create -n actuaries jupyterlab numpy scipy     to create an env and install libraries\n",
    "conda activate actuaries                             to activate an env\n",
    "     OR\n",
    "conda create -n actuaries                            to just create an env\n",
    "conda install jupyterlab numpy scipy                 to just install libraries\n",
    "jupyter lab                                          to start jupyterlab\n",
    "```"
   ]
  },
  {
   "cell_type": "markdown",
   "metadata": {},
   "source": [
    "## Markdown ref"
   ]
  },
  {
   "cell_type": "markdown",
   "metadata": {},
   "source": [
    "```\n",
    "Markdown cheatsheet: https://github.com/adam-p/markdown-here/wiki/Markdown-Cheatsheet\n",
    "    OR\n",
    "Help menu > Markdown Reference\n",
    "```"
   ]
  },
  {
   "cell_type": "markdown",
   "metadata": {},
   "source": [
    "## Get ref"
   ]
  },
  {
   "cell_type": "markdown",
   "metadata": {},
   "source": [
    "```\n",
    "git clone https://github.com/shoobeee/Actuaries.git           to clone a repo\n",
    "git status                                                    to check the status of the commits and files\n",
    "git add .                                                     to add (.) all files to stage \n",
    "git commit -m 'init commit'                                   to commit staged files with the msg: 'init commit'\n",
    "git push                                                      to push the commited files to github\n",
    "git pull                                                      to pull new commits if any from github\n",
    "```"
   ]
  },
  {
   "cell_type": "code",
   "execution_count": null,
   "metadata": {},
   "outputs": [],
   "source": []
  }
 ],
 "metadata": {
  "kernelspec": {
   "display_name": "Python 3",
   "language": "python",
   "name": "python3"
  },
  "language_info": {
   "codemirror_mode": {
    "name": "ipython",
    "version": 3
   },
   "file_extension": ".py",
   "mimetype": "text/x-python",
   "name": "python",
   "nbconvert_exporter": "python",
   "pygments_lexer": "ipython3",
   "version": "3.7.7"
  }
 },
 "nbformat": 4,
 "nbformat_minor": 4
}
