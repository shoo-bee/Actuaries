{
 "cells": [
  {
   "cell_type": "code",
   "execution_count": 24,
   "metadata": {},
   "outputs": [],
   "source": [
    "import pandas"
   ]
  },
  {
   "cell_type": "markdown",
   "metadata": {},
   "source": [
    "## ACCUMULATED VALUE OF ANNUITIES"
   ]
  },
  {
   "cell_type": "code",
   "execution_count": 41,
   "metadata": {},
   "outputs": [],
   "source": [
    "def accval_ann(n,r,principal,is_due = True):\n",
    "    \"\"\"\n",
    "    Accumulated Value of an Annuity\n",
    "    n: Number of years\n",
    "    r: Rate of Interest\n",
    "    principal: Principal Amount invested \n",
    "    is_due: principal is invested at the BEGINNING of each year\n",
    "    \"\"\"\n",
    "    if is_due:\n",
    "        ans = principal\n",
    "    else:\n",
    "        ans = 0\n",
    "    for i in range(1,n+1,1):\n",
    "        ans= ans*(1+r)+principal\n",
    "    if is_due:\n",
    "        acc = ans-principal\n",
    "    else:\n",
    "        acc = ans\n",
    "    return acc"
   ]
  },
  {
   "cell_type": "code",
   "execution_count": 42,
   "metadata": {},
   "outputs": [
    {
     "data": {
      "text/plain": [
       "2050.0"
      ]
     },
     "execution_count": 42,
     "metadata": {},
     "output_type": "execute_result"
    }
   ],
   "source": [
    "accval_ann(2,0.05,1000,False)"
   ]
  },
  {
   "cell_type": "code",
   "execution_count": 43,
   "metadata": {},
   "outputs": [],
   "source": [
    "def accval_ann(n,r,principal,is_due = True):\n",
    "    \"\"\"\n",
    "    Accumulated Value of an Annuity\n",
    "    n: Number of years\n",
    "    r: Rate of Interest\n",
    "    principal: Principal Amount invested \n",
    "    is_due: principal is invested at the BEGINNING of each year\n",
    "    \"\"\"\n",
    "    ans = principal if is_due else 0\n",
    "        \n",
    "    for i in range(1,n+1,1):\n",
    "        ans= ans*(1+r)+principal\n",
    "    acc = ans - principal if is_due else ans\n",
    "    return acc"
   ]
  },
  {
   "cell_type": "code",
   "execution_count": 44,
   "metadata": {},
   "outputs": [
    {
     "data": {
      "text/plain": [
       "2152.5"
      ]
     },
     "execution_count": 44,
     "metadata": {},
     "output_type": "execute_result"
    }
   ],
   "source": [
    "accval_ann(2,0.05,1000)"
   ]
  },
  {
   "cell_type": "code",
   "execution_count": 45,
   "metadata": {},
   "outputs": [
    {
     "data": {
      "text/plain": [
       "2050.0"
      ]
     },
     "execution_count": 45,
     "metadata": {},
     "output_type": "execute_result"
    }
   ],
   "source": [
    "accval_ann(2,0.05,1000,False)"
   ]
  },
  {
   "cell_type": "code",
   "execution_count": 46,
   "metadata": {},
   "outputs": [],
   "source": [
    "def annuity_value(n, r, p, is_due=True, is_PV=True):\n",
    "    \"\"\"\n",
    "    Accumulated Value of an Annuity\n",
    "    n: Number of period\n",
    "    r: Rate of Interest for one period\n",
    "    p: Principal Amount invested \n",
    "    is_due: principal is invested at the BEGINNING of each period if True, invested at END of the period if False\n",
    "    is_PV: Present Value if True, Accumulated Value if False \n",
    "    \"\"\"\n",
    "    ans = p if is_due else 0\n",
    "        \n",
    "    for i in range(1,n + 1,1):\n",
    "        ans = ans * (1 + r) + p\n",
    "    if is_due:\n",
    "        if is_PV:\n",
    "            acc = (ans-p) * (1 + r)**(-n)\n",
    "    return acc"
   ]
  },
  {
   "cell_type": "code",
   "execution_count": 47,
   "metadata": {},
   "outputs": [
    {
     "data": {
      "text/plain": [
       "2152.5"
      ]
     },
     "execution_count": 47,
     "metadata": {},
     "output_type": "execute_result"
    }
   ],
   "source": [
    "annuity_value(2,0.05,1000,True,False)"
   ]
  },
  {
   "cell_type": "code",
   "execution_count": 48,
   "metadata": {},
   "outputs": [
    {
     "data": {
      "text/plain": [
       "2152.5"
      ]
     },
     "execution_count": 48,
     "metadata": {},
     "output_type": "execute_result"
    }
   ],
   "source": [
    "annuity_value(2,0.05,1000,True,True)"
   ]
  }
 ],
 "metadata": {
  "kernelspec": {
   "display_name": "Python 3",
   "language": "python",
   "name": "python3"
  },
  "language_info": {
   "codemirror_mode": {
    "name": "ipython",
    "version": 3
   },
   "file_extension": ".py",
   "mimetype": "text/x-python",
   "name": "python",
   "nbconvert_exporter": "python",
   "pygments_lexer": "ipython3",
   "version": "3.7.7"
  }
 },
 "nbformat": 4,
 "nbformat_minor": 4
}
